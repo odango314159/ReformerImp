{
 "cells": [
  {
   "cell_type": "code",
   "execution_count": 1,
   "id": "fa838f70-e623-4178-b391-b30f1c901f1c",
   "metadata": {},
   "outputs": [],
   "source": [
    "import torch\n",
    "import numpy as np\n",
    "import torch.nn as nn\n",
    "import os\n",
    "import sys"
   ]
  },
  {
   "cell_type": "code",
   "execution_count": 2,
   "id": "66a07d0e-2b76-4744-a7a8-a723f579874a",
   "metadata": {},
   "outputs": [],
   "source": [
    "notebook_path = os.getcwd()\n",
    "parent_dir = os.path.dirname(notebook_path)\n",
    "sys.path.append(parent_dir)"
   ]
  },
  {
   "cell_type": "code",
   "execution_count": 3,
   "id": "2a1e08fc-887b-4cd0-82a9-7613b5e48849",
   "metadata": {},
   "outputs": [],
   "source": [
    "import importnb\n",
    "with __import__('importnb').Notebook(): \n",
    "    from tools import ScaledDotProductAttention\n",
    "    from tools import MultiHeadAttention\n",
    "    from tools import AddPositionalEncoding\n",
    "    from tools import TransformerFFN\n",
    "    from notebooks.model import TransformerEncoderLayer,TransformerEncoder\n",
    "    from notebooks.model import TransformerDecoderLayer\n",
    "    from notebooks.model import Transformer"
   ]
  },
  {
   "cell_type": "markdown",
   "id": "db0096c9-d3d2-4aee-9c95-6d7d77808787",
   "metadata": {},
   "source": [
    "## SelfAttentionの実行\n",
    "\n",
    "### 適当なデータの作成\n",
    "---\n",
    "新しくデータkを作る。kは**(B,T,d_model)**のshapeを持つテンソルである。\n",
    "\n",
    "\n",
    "### SelfAttentionにする\n",
    "---\n",
    "q,k,vを同じテンソルにすることでSelfAttentionにする。\n",
    "\n",
    "\n",
    "### forwardで計算を行う。\n",
    "---\n",
    "呼び出したspa.forward()によって計算を行う。\n",
    "この時spaの初期化で与えるd_kには本来d_modelをhead数で割った値が入る(デフォルトだと512/8で64)"
   ]
  },
  {
   "cell_type": "code",
   "execution_count": 4,
   "id": "62951971-aa1c-4508-8b78-fa44b9013862",
   "metadata": {},
   "outputs": [],
   "source": [
    "###SelfAttentionの実行\n",
    "import json\n",
    "with open('../data/config.json', 'r') as file:\n",
    "    config = json.load(file)\n",
    "    \n",
    "max_len = config[\"max_len\"]\n",
    "src_vocab_size = config[\"src_vocab_size\"]\n",
    "tgt_vocab_size = config[\"tgt_vocab_size\"]\n",
    "batch_size = 16\n",
    "num_head = 8\n",
    "d_model = 512\n",
    "d_ff = 2048\n",
    "N = 6\n",
    "pad_idx = 0\n",
    "dropout_rate=0.1\n",
    "layer_norm_eps = 1e-5\n",
    "src = torch.randint(0,2000, (batch_size,max_len)).to(torch.int64)\n",
    "tgt = torch.randint(0,2000, (batch_size,max_len)).to(torch.int64)"
   ]
  },
  {
   "cell_type": "code",
   "execution_count": 13,
   "id": "794ada80-3679-4fc5-9b1b-8567f096962e",
   "metadata": {},
   "outputs": [
    {
     "data": {
      "text/plain": [
       "torch.Size([16, 159])"
      ]
     },
     "execution_count": 13,
     "metadata": {},
     "output_type": "execute_result"
    }
   ],
   "source": [
    "q.shape"
   ]
  },
  {
   "cell_type": "markdown",
   "id": "dfe97f88-d698-466c-88f1-e6344f853360",
   "metadata": {},
   "source": [
    "## MultiHeadAttentionの実行\n",
    "ランダムなテンソル、スタンダードなマスクを使う。"
   ]
  },
  {
   "cell_type": "code",
   "execution_count": 8,
   "id": "5ebadbee-ed4c-47eb-837a-70117b3c7015",
   "metadata": {},
   "outputs": [
    {
     "name": "stdout",
     "output_type": "stream",
     "text": [
      "torch.Size([2, 8, 8])\n",
      "torch.Size([2, 8, 8])\n"
     ]
    }
   ],
   "source": [
    "def create_incremental_mask(seq_len):\n",
    "    \"\"\"\n",
    "    seq_len x seq_len のサイズのマスクを生成する。\n",
    "    0列目は全てFalse、以降の列では上から順にTrueの数を増やしていく。\n",
    "    \"\"\"\n",
    "    # seq_len x seq_len の行列を生成し、初期値は全てFalseに設定\n",
    "    mask = torch.full((seq_len, seq_len), False)\n",
    "\n",
    "    # 各列に対して、上から順にTrueをセットする\n",
    "    for i in range(seq_len):\n",
    "        mask[:i, i] = True\n",
    "\n",
    "    return mask\n",
    "self_mask = create_incremental_mask(seq_len).repeat(batch_size,1,1)\n",
    "tgt_mask = create_incremental_mask(seq_len).repeat(batch_size,1,1)\n",
    "print(self_mask.shape)\n",
    "print(tgt_mask.shape)"
   ]
  },
  {
   "cell_type": "code",
   "execution_count": 9,
   "id": "692a7e7f-4ee9-406a-afe0-9e23b820d895",
   "metadata": {},
   "outputs": [],
   "source": [
    "encoder = TransformerEncoder(\n",
    "    d_model = d_model,\n",
    "    d_ff = d_ff,\n",
    "    num_head = num_head,\n",
    "    N=N,\n",
    "    max_len=max_len,\n",
    "    pad_idx=pad_idx,\n",
    "    vocab_size=vocab_size,\n",
    "    dropout_rate=dropout_rate,\n",
    "    layer_norm_eps=layer_norm_eps\n",
    ")"
   ]
  },
  {
   "cell_type": "code",
   "execution_count": 11,
   "id": "712a730d-de65-4ed3-a880-f122b427032f",
   "metadata": {},
   "outputs": [
    {
     "name": "stdout",
     "output_type": "stream",
     "text": [
      "torch.Size([2, 8, 64])\n"
     ]
    }
   ],
   "source": [
    "output = encoder(\n",
    "    k.to(torch.int32),\n",
    "    mask=self_mask)"
   ]
  },
  {
   "cell_type": "code",
   "execution_count": 16,
   "id": "86086690-f220-4af9-a807-edf3470730ba",
   "metadata": {},
   "outputs": [],
   "source": [
    "decoderlayer = TransformerDecoderLayer(\n",
    "    d_model=d_model,\n",
    "    d_ff=d_ff,\n",
    "    num_head=num_head,\n",
    "    dropout_rate=dropout_rate,\n",
    "    layer_norm_eps=layer_norm_eps\n",
    ")"
   ]
  },
  {
   "cell_type": "code",
   "execution_count": 5,
   "id": "43e20c35-ec23-436f-943f-c9b0eb864fe4",
   "metadata": {},
   "outputs": [],
   "source": [
    "transformer = Transformer(\n",
    "    src_vocab_size=src_vocab_size,\n",
    "    tgt_vocab_size=tgt_vocab_size,\n",
    "    max_len=max_len\n",
    ")"
   ]
  },
  {
   "cell_type": "code",
   "execution_count": 6,
   "id": "edbcef8a-2c79-4643-ac11-aaaa96e642ad",
   "metadata": {},
   "outputs": [
    {
     "name": "stdout",
     "output_type": "stream",
     "text": [
      "torch.Size([16, 159, 512])\n"
     ]
    },
    {
     "ename": "NameError",
     "evalue": "name 'device' is not defined",
     "output_type": "error",
     "traceback": [
      "\u001b[0;31m---------------------------------------------------------------------------\u001b[0m",
      "\u001b[0;31mNameError\u001b[0m                                 Traceback (most recent call last)",
      "Cell \u001b[0;32mIn[6], line 1\u001b[0m\n\u001b[0;32m----> 1\u001b[0m output \u001b[38;5;241m=\u001b[39m \u001b[43mtransformer\u001b[49m\u001b[43m(\u001b[49m\n\u001b[1;32m      2\u001b[0m \u001b[43m    \u001b[49m\u001b[43msrc\u001b[49m\u001b[38;5;241;43m=\u001b[39;49m\u001b[43msrc\u001b[49m\u001b[43m,\u001b[49m\n\u001b[1;32m      3\u001b[0m \u001b[43m    \u001b[49m\u001b[43mtgt\u001b[49m\u001b[38;5;241;43m=\u001b[39;49m\u001b[43mtgt\u001b[49m\n\u001b[1;32m      4\u001b[0m \u001b[43m)\u001b[49m\n",
      "File \u001b[0;32m/usr/local/lib/python3.8/site-packages/torch/nn/modules/module.py:1518\u001b[0m, in \u001b[0;36mModule._wrapped_call_impl\u001b[0;34m(self, *args, **kwargs)\u001b[0m\n\u001b[1;32m   1516\u001b[0m     \u001b[38;5;28;01mreturn\u001b[39;00m \u001b[38;5;28mself\u001b[39m\u001b[38;5;241m.\u001b[39m_compiled_call_impl(\u001b[38;5;241m*\u001b[39margs, \u001b[38;5;241m*\u001b[39m\u001b[38;5;241m*\u001b[39mkwargs)  \u001b[38;5;66;03m# type: ignore[misc]\u001b[39;00m\n\u001b[1;32m   1517\u001b[0m \u001b[38;5;28;01melse\u001b[39;00m:\n\u001b[0;32m-> 1518\u001b[0m     \u001b[38;5;28;01mreturn\u001b[39;00m \u001b[38;5;28;43mself\u001b[39;49m\u001b[38;5;241;43m.\u001b[39;49m\u001b[43m_call_impl\u001b[49m\u001b[43m(\u001b[49m\u001b[38;5;241;43m*\u001b[39;49m\u001b[43margs\u001b[49m\u001b[43m,\u001b[49m\u001b[43m \u001b[49m\u001b[38;5;241;43m*\u001b[39;49m\u001b[38;5;241;43m*\u001b[39;49m\u001b[43mkwargs\u001b[49m\u001b[43m)\u001b[49m\n",
      "File \u001b[0;32m/usr/local/lib/python3.8/site-packages/torch/nn/modules/module.py:1527\u001b[0m, in \u001b[0;36mModule._call_impl\u001b[0;34m(self, *args, **kwargs)\u001b[0m\n\u001b[1;32m   1522\u001b[0m \u001b[38;5;66;03m# If we don't have any hooks, we want to skip the rest of the logic in\u001b[39;00m\n\u001b[1;32m   1523\u001b[0m \u001b[38;5;66;03m# this function, and just call forward.\u001b[39;00m\n\u001b[1;32m   1524\u001b[0m \u001b[38;5;28;01mif\u001b[39;00m \u001b[38;5;129;01mnot\u001b[39;00m (\u001b[38;5;28mself\u001b[39m\u001b[38;5;241m.\u001b[39m_backward_hooks \u001b[38;5;129;01mor\u001b[39;00m \u001b[38;5;28mself\u001b[39m\u001b[38;5;241m.\u001b[39m_backward_pre_hooks \u001b[38;5;129;01mor\u001b[39;00m \u001b[38;5;28mself\u001b[39m\u001b[38;5;241m.\u001b[39m_forward_hooks \u001b[38;5;129;01mor\u001b[39;00m \u001b[38;5;28mself\u001b[39m\u001b[38;5;241m.\u001b[39m_forward_pre_hooks\n\u001b[1;32m   1525\u001b[0m         \u001b[38;5;129;01mor\u001b[39;00m _global_backward_pre_hooks \u001b[38;5;129;01mor\u001b[39;00m _global_backward_hooks\n\u001b[1;32m   1526\u001b[0m         \u001b[38;5;129;01mor\u001b[39;00m _global_forward_hooks \u001b[38;5;129;01mor\u001b[39;00m _global_forward_pre_hooks):\n\u001b[0;32m-> 1527\u001b[0m     \u001b[38;5;28;01mreturn\u001b[39;00m \u001b[43mforward_call\u001b[49m\u001b[43m(\u001b[49m\u001b[38;5;241;43m*\u001b[39;49m\u001b[43margs\u001b[49m\u001b[43m,\u001b[49m\u001b[43m \u001b[49m\u001b[38;5;241;43m*\u001b[39;49m\u001b[38;5;241;43m*\u001b[39;49m\u001b[43mkwargs\u001b[49m\u001b[43m)\u001b[49m\n\u001b[1;32m   1529\u001b[0m \u001b[38;5;28;01mtry\u001b[39;00m:\n\u001b[1;32m   1530\u001b[0m     result \u001b[38;5;241m=\u001b[39m \u001b[38;5;28;01mNone\u001b[39;00m\n",
      "File \u001b[0;32m/work/notebooks/model.ipynb:337\u001b[0m, in \u001b[0;36mTransformer.forward\u001b[0;34m(self, src, tgt)\u001b[0m\n\u001b[1;32m    331\u001b[0m src_mask \u001b[38;5;241m=\u001b[39m \u001b[38;5;28mself\u001b[39m\u001b[38;5;241m.\u001b[39m__pad_mask(src)\n\u001b[1;32m    332\u001b[0m src \u001b[38;5;241m=\u001b[39m \u001b[38;5;28mself\u001b[39m\u001b[38;5;241m.\u001b[39mencoder(\n\u001b[1;32m    333\u001b[0m     x\u001b[38;5;241m=\u001b[39msrc,\n\u001b[1;32m    334\u001b[0m     mask\u001b[38;5;241m=\u001b[39msrc_mask\n\u001b[1;32m    335\u001b[0m )\n\u001b[1;32m    336\u001b[0m dec_mask \u001b[38;5;241m=\u001b[39m torch\u001b[38;5;241m.\u001b[39mlogical_or(\n\u001b[0;32m--> 337\u001b[0m     \u001b[38;5;28;43mself\u001b[39;49m\u001b[38;5;241;43m.\u001b[39;49m\u001b[43m__subsequent_mask\u001b[49m\u001b[43m(\u001b[49m\u001b[43mtgt\u001b[49m\u001b[43m)\u001b[49m,\u001b[38;5;28mself\u001b[39m\u001b[38;5;241m.\u001b[39m__pad_mask(tgt)\n\u001b[1;32m    338\u001b[0m )\n\u001b[1;32m    339\u001b[0m tgt \u001b[38;5;241m=\u001b[39m \u001b[38;5;28mself\u001b[39m\u001b[38;5;241m.\u001b[39mdecoder(\n\u001b[1;32m    340\u001b[0m     tgt,\n\u001b[1;32m    341\u001b[0m     src,\n\u001b[1;32m    342\u001b[0m     src_mask,\n\u001b[1;32m    343\u001b[0m     dec_mask\n\u001b[1;32m    344\u001b[0m )\n\u001b[1;32m    345\u001b[0m \u001b[38;5;28;01mreturn\u001b[39;00m \u001b[38;5;28mself\u001b[39m\u001b[38;5;241m.\u001b[39mlinear(tgt)\n",
      "File \u001b[0;32m/work/notebooks/model.ipynb:366\u001b[0m, in \u001b[0;36mTransformer.__subsequent_mask\u001b[0;34m(self, x)\u001b[0m\n\u001b[1;32m    361\u001b[0m batch_size \u001b[38;5;241m=\u001b[39m x\u001b[38;5;241m.\u001b[39mshape[\u001b[38;5;241m0\u001b[39m]\n\u001b[1;32m    362\u001b[0m seq_len \u001b[38;5;241m=\u001b[39m x\u001b[38;5;241m.\u001b[39mshape[\u001b[38;5;241m1\u001b[39m]\n\u001b[1;32m    363\u001b[0m \u001b[38;5;28;01mreturn\u001b[39;00m (\n\u001b[1;32m    364\u001b[0m     torch\u001b[38;5;241m.\u001b[39mtril(\n\u001b[1;32m    365\u001b[0m         torch\u001b[38;5;241m.\u001b[39mones(batch_size,\u001b[38;5;28mself\u001b[39m\u001b[38;5;241m.\u001b[39mmax_len,\u001b[38;5;28mself\u001b[39m\u001b[38;5;241m.\u001b[39mmax_len)\n\u001b[0;32m--> 366\u001b[0m     )\u001b[38;5;241m.\u001b[39meq(\u001b[38;5;241m0\u001b[39m)\u001b[38;5;241m.\u001b[39mto(\u001b[43mdevice\u001b[49m)\n\u001b[1;32m    367\u001b[0m )\n",
      "\u001b[0;31mNameError\u001b[0m: name 'device' is not defined"
     ]
    }
   ],
   "source": [
    "output = transformer(\n",
    "    src=src,\n",
    "    tgt=tgt\n",
    ")"
   ]
  },
  {
   "cell_type": "code",
   "execution_count": null,
   "id": "684994b3-458f-4c35-bd3d-765b79c80a45",
   "metadata": {},
   "outputs": [],
   "source": []
  }
 ],
 "metadata": {
  "kernelspec": {
   "display_name": "Python 3 (ipykernel)",
   "language": "python",
   "name": "python3"
  },
  "language_info": {
   "codemirror_mode": {
    "name": "ipython",
    "version": 3
   },
   "file_extension": ".py",
   "mimetype": "text/x-python",
   "name": "python",
   "nbconvert_exporter": "python",
   "pygments_lexer": "ipython3",
   "version": "3.8.18"
  }
 },
 "nbformat": 4,
 "nbformat_minor": 5
}
